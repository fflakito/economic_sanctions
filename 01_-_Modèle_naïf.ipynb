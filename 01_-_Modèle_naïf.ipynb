{
 "cells": [
  {
   "cell_type": "markdown",
   "metadata": {},
   "source": [
    "# Prédiction de l'impact de sanctions économiques"
   ]
  },
  {
   "cell_type": "markdown",
   "metadata": {},
   "source": [
    "## Notebook 1 - Modèle \"naïf\" (pas de feature engineering)"
   ]
  },
  {
   "cell_type": "code",
   "execution_count": 6,
   "metadata": {},
   "outputs": [],
   "source": [
    "# import required libraries\n",
    "\n",
    "import pandas as pd\n",
    "import numpy as np\n",
    "import seaborn as sns\n",
    "import matplotlib.pyplot as plt\n",
    "from sklearn.ensemble import RandomForestClassifier\n",
    "\n",
    "pd.set_option('display.max_columns', 80)\n",
    "sns.set_style(\"whitegrid\")\n",
    "%matplotlib inline\n",
    "\n",
    "np.random.seed(0)"
   ]
  },
  {
   "cell_type": "code",
   "execution_count": 25,
   "metadata": {},
   "outputs": [
    {
     "output_type": "stream",
     "name": "stdout",
     "text": "(204, 38)\n"
    },
    {
     "output_type": "execute_result",
     "data": {
      "text/plain": "                 Sender c Sender 2c Sender 3c  Targetd  \\\nCase no.b                                                \n14-1       UNITED KINGDOM       NaN       NaN  GERMANY   \n17-1        UNITED STATES       NaN       NaN    JAPAN   \n18-1       UNITED KINGDOM       NaN       NaN   RUSSIA   \n\n                             Goal  US casee  US unilateral casef  \\\nCase no.b                                                          \n14-1             Military victory         0                    0   \n17-1          Shipping for Allies         1                    1   \n18-1       Destabilize Bolsheviks         0                    0   \n\n           Foreign policy goal categoryg  First yearh Last yeari  \\\nCase no.b                                                          \n14-1                                   4         1914       1918   \n17-1                                   5         1917       1918   \n18-1                                   2         1918       1920   \n\n           Policy resultj  Sanctions contributionk  Success \\nscorel  \\\nCase no.b                                                              \n14-1                    4                        3                12   \n17-1                    2                        2                 4   \n18-1                    1                        2                 2   \n\n          Companion policiesm  International cooperationn  \\\nCase no.b                                                   \n14-1                        R                           4   \n17-1                       --                           1   \n18-1                      R,Q                           4   \n\n          International assistanceo Cooperating international organizationp  \\\nCase no.b                                                                     \n14-1                              A                                      --   \n17-1                             --                                      --   \n18-1                             --                                      --   \n\n           International organization senderq  \\\nCase no.b                                       \n14-1                                        0   \n17-1                                        0   \n18-1                                        0   \n\n           International organization sender & target membersr  \\\nCase no.b                                                        \n14-1                                                       0     \n17-1                                                       0     \n18-1                                                       0     \n\n           Length (years)s  Prior relationst Regime Type \\n(DEMOC 1st year)u  \\\nCase no.b                                                                      \n14-1                     4                 1                               5   \n17-1                     1                 2                               5   \n18-1                     2                 1                               1   \n\n          Regime Type2 (Polity2 1st year)v Regime Type3 \\n(Scale 1st year)w  \\\nCase no.b                                                                     \n14-1                                     2                                2   \n17-1                                     1                                2   \n18-1                                    -1                                2   \n\n          Political stability priorx Political stability duringy  \\\nCase no.b                                                          \n14-1                             0,0                         0,0   \n17-1                             0,0                         0,0   \n18-1                             0,1                         0,0   \n\n          Cost to targetz Cost to target (percent of GNP)aa  \\\nCase no.b                                                     \n14-1                  843                               7,1   \n17-1                   23                               0,8   \n18-1                  446                               4,1   \n\n          Cost to target per capitabb Trade linkagecc GNP \\nratiodd  \\\nCase no.b                                                             \n14-1                            12,58               9             1   \n17-1                             0,44            20,5            13   \n18-1                             2,49            18,5             1   \n\n           Health and stabilityee Sanction typeff  Cost to sendergg  \\\nCase no.b                                                             \n14-1                            3           F,X,M                 4   \n17-1                            3               X                 2   \n18-1                            1           F,X,M                 3   \n\n          GDP growth (percent, 5-year average)hh  \\\nCase no.b                                          \n14-1                                         3,6   \n17-1                                         5,4   \n18-1                                        n.a.   \n\n          Inflation (percent,\\n 3-year average)ii  \\\nCase no.b                                           \n14-1                                          2,9   \n17-1                                         25,6   \n18-1                                         n.a.   \n\n          Target International Monetary Fund codejj  Country groupkk  \nCase no.b                                                             \n14-1                                            134                1  \n17-1                                            158                1  \n18-1                                            922                2  ",
      "text/html": "<div>\n<style scoped>\n    .dataframe tbody tr th:only-of-type {\n        vertical-align: middle;\n    }\n\n    .dataframe tbody tr th {\n        vertical-align: top;\n    }\n\n    .dataframe thead th {\n        text-align: right;\n    }\n</style>\n<table border=\"1\" class=\"dataframe\">\n  <thead>\n    <tr style=\"text-align: right;\">\n      <th></th>\n      <th>Sender c</th>\n      <th>Sender 2c</th>\n      <th>Sender 3c</th>\n      <th>Targetd</th>\n      <th>Goal</th>\n      <th>US casee</th>\n      <th>US unilateral casef</th>\n      <th>Foreign policy goal categoryg</th>\n      <th>First yearh</th>\n      <th>Last yeari</th>\n      <th>Policy resultj</th>\n      <th>Sanctions contributionk</th>\n      <th>Success \\nscorel</th>\n      <th>Companion policiesm</th>\n      <th>International cooperationn</th>\n      <th>International assistanceo</th>\n      <th>Cooperating international organizationp</th>\n      <th>International organization senderq</th>\n      <th>International organization sender &amp; target membersr</th>\n      <th>Length (years)s</th>\n      <th>Prior relationst</th>\n      <th>Regime Type \\n(DEMOC 1st year)u</th>\n      <th>Regime Type2 (Polity2 1st year)v</th>\n      <th>Regime Type3 \\n(Scale 1st year)w</th>\n      <th>Political stability priorx</th>\n      <th>Political stability duringy</th>\n      <th>Cost to targetz</th>\n      <th>Cost to target (percent of GNP)aa</th>\n      <th>Cost to target per capitabb</th>\n      <th>Trade linkagecc</th>\n      <th>GNP \\nratiodd</th>\n      <th>Health and stabilityee</th>\n      <th>Sanction typeff</th>\n      <th>Cost to sendergg</th>\n      <th>GDP growth (percent, 5-year average)hh</th>\n      <th>Inflation (percent,\\n 3-year average)ii</th>\n      <th>Target International Monetary Fund codejj</th>\n      <th>Country groupkk</th>\n    </tr>\n    <tr>\n      <th>Case no.b</th>\n      <th></th>\n      <th></th>\n      <th></th>\n      <th></th>\n      <th></th>\n      <th></th>\n      <th></th>\n      <th></th>\n      <th></th>\n      <th></th>\n      <th></th>\n      <th></th>\n      <th></th>\n      <th></th>\n      <th></th>\n      <th></th>\n      <th></th>\n      <th></th>\n      <th></th>\n      <th></th>\n      <th></th>\n      <th></th>\n      <th></th>\n      <th></th>\n      <th></th>\n      <th></th>\n      <th></th>\n      <th></th>\n      <th></th>\n      <th></th>\n      <th></th>\n      <th></th>\n      <th></th>\n      <th></th>\n      <th></th>\n      <th></th>\n      <th></th>\n      <th></th>\n    </tr>\n  </thead>\n  <tbody>\n    <tr>\n      <th>14-1</th>\n      <td>UNITED KINGDOM</td>\n      <td>NaN</td>\n      <td>NaN</td>\n      <td>GERMANY</td>\n      <td>Military victory</td>\n      <td>0</td>\n      <td>0</td>\n      <td>4</td>\n      <td>1914</td>\n      <td>1918</td>\n      <td>4</td>\n      <td>3</td>\n      <td>12</td>\n      <td>R</td>\n      <td>4</td>\n      <td>A</td>\n      <td>--</td>\n      <td>0</td>\n      <td>0</td>\n      <td>4</td>\n      <td>1</td>\n      <td>5</td>\n      <td>2</td>\n      <td>2</td>\n      <td>0,0</td>\n      <td>0,0</td>\n      <td>843</td>\n      <td>7,1</td>\n      <td>12,58</td>\n      <td>9</td>\n      <td>1</td>\n      <td>3</td>\n      <td>F,X,M</td>\n      <td>4</td>\n      <td>3,6</td>\n      <td>2,9</td>\n      <td>134</td>\n      <td>1</td>\n    </tr>\n    <tr>\n      <th>17-1</th>\n      <td>UNITED STATES</td>\n      <td>NaN</td>\n      <td>NaN</td>\n      <td>JAPAN</td>\n      <td>Shipping for Allies</td>\n      <td>1</td>\n      <td>1</td>\n      <td>5</td>\n      <td>1917</td>\n      <td>1918</td>\n      <td>2</td>\n      <td>2</td>\n      <td>4</td>\n      <td>--</td>\n      <td>1</td>\n      <td>--</td>\n      <td>--</td>\n      <td>0</td>\n      <td>0</td>\n      <td>1</td>\n      <td>2</td>\n      <td>5</td>\n      <td>1</td>\n      <td>2</td>\n      <td>0,0</td>\n      <td>0,0</td>\n      <td>23</td>\n      <td>0,8</td>\n      <td>0,44</td>\n      <td>20,5</td>\n      <td>13</td>\n      <td>3</td>\n      <td>X</td>\n      <td>2</td>\n      <td>5,4</td>\n      <td>25,6</td>\n      <td>158</td>\n      <td>1</td>\n    </tr>\n    <tr>\n      <th>18-1</th>\n      <td>UNITED KINGDOM</td>\n      <td>NaN</td>\n      <td>NaN</td>\n      <td>RUSSIA</td>\n      <td>Destabilize Bolsheviks</td>\n      <td>0</td>\n      <td>0</td>\n      <td>2</td>\n      <td>1918</td>\n      <td>1920</td>\n      <td>1</td>\n      <td>2</td>\n      <td>2</td>\n      <td>R,Q</td>\n      <td>4</td>\n      <td>--</td>\n      <td>--</td>\n      <td>0</td>\n      <td>0</td>\n      <td>2</td>\n      <td>1</td>\n      <td>1</td>\n      <td>-1</td>\n      <td>2</td>\n      <td>0,1</td>\n      <td>0,0</td>\n      <td>446</td>\n      <td>4,1</td>\n      <td>2,49</td>\n      <td>18,5</td>\n      <td>1</td>\n      <td>1</td>\n      <td>F,X,M</td>\n      <td>3</td>\n      <td>n.a.</td>\n      <td>n.a.</td>\n      <td>922</td>\n      <td>2</td>\n    </tr>\n  </tbody>\n</table>\n</div>"
     },
     "metadata": {},
     "execution_count": 25
    }
   ],
   "source": [
    "# import the data\n",
    "\n",
    "base_df = pd.read_csv(\"input/sanctions.csv.gz\", index_col=0)\n",
    "print(base_df.shape)\n",
    "# for col, typ in zip(base_df.columns, base_df.dtypes):\n",
    "#     print(col, \"=>\", typ)\n",
    "base_df.head(3)"
   ]
  },
  {
   "cell_type": "code",
   "execution_count": 26,
   "metadata": {},
   "outputs": [
    {
     "output_type": "stream",
     "name": "stdout",
     "text": "(204, 30)\n"
    },
    {
     "output_type": "execute_result",
     "data": {
      "text/plain": "                 Sender c Sender 2c Sender 3c  Targetd  \\\nCase no.b                                                \n14-1       UNITED KINGDOM       NaN       NaN  GERMANY   \n17-1        UNITED STATES       NaN       NaN    JAPAN   \n18-1       UNITED KINGDOM       NaN       NaN   RUSSIA   \n\n                             Goal  US casee  US unilateral casef  \\\nCase no.b                                                          \n14-1             Military victory         0                    0   \n17-1          Shipping for Allies         1                    1   \n18-1       Destabilize Bolsheviks         0                    0   \n\n           Foreign policy goal categoryg  First yearh  Policy resultj  \\\nCase no.b                                                               \n14-1                                   4         1914               4   \n17-1                                   5         1917               2   \n18-1                                   2         1918               1   \n\n           Sanctions contributionk  Success \\nscorel Companion policiesm  \\\nCase no.b                                                                  \n14-1                             3                12                   R   \n17-1                             2                 4                  --   \n18-1                             2                 2                 R,Q   \n\n           International cooperationn International assistanceo  \\\nCase no.b                                                         \n14-1                                4                         A   \n17-1                                1                        --   \n18-1                                4                        --   \n\n          Cooperating international organizationp  \\\nCase no.b                                           \n14-1                                           --   \n17-1                                           --   \n18-1                                           --   \n\n           International organization senderq  \\\nCase no.b                                       \n14-1                                        0   \n17-1                                        0   \n18-1                                        0   \n\n           International organization sender & target membersr  \\\nCase no.b                                                        \n14-1                                                       0     \n17-1                                                       0     \n18-1                                                       0     \n\n           Prior relationst Regime Type \\n(DEMOC 1st year)u  \\\nCase no.b                                                     \n14-1                      1                               5   \n17-1                      2                               5   \n18-1                      1                               1   \n\n          Regime Type2 (Polity2 1st year)v Regime Type3 \\n(Scale 1st year)w  \\\nCase no.b                                                                     \n14-1                                     2                                2   \n17-1                                     1                                2   \n18-1                                    -1                                2   \n\n          Political stability priorx Trade linkagecc GNP \\nratiodd  \\\nCase no.b                                                            \n14-1                             0,0               9             1   \n17-1                             0,0            20,5            13   \n18-1                             0,1            18,5             1   \n\n           Health and stabilityee Sanction typeff  \\\nCase no.b                                           \n14-1                            3           F,X,M   \n17-1                            3               X   \n18-1                            1           F,X,M   \n\n          GDP growth (percent, 5-year average)hh  \\\nCase no.b                                          \n14-1                                         3,6   \n17-1                                         5,4   \n18-1                                        n.a.   \n\n          Inflation (percent,\\n 3-year average)ii  Country groupkk  \nCase no.b                                                           \n14-1                                          2,9                1  \n17-1                                         25,6                1  \n18-1                                         n.a.                2  ",
      "text/html": "<div>\n<style scoped>\n    .dataframe tbody tr th:only-of-type {\n        vertical-align: middle;\n    }\n\n    .dataframe tbody tr th {\n        vertical-align: top;\n    }\n\n    .dataframe thead th {\n        text-align: right;\n    }\n</style>\n<table border=\"1\" class=\"dataframe\">\n  <thead>\n    <tr style=\"text-align: right;\">\n      <th></th>\n      <th>Sender c</th>\n      <th>Sender 2c</th>\n      <th>Sender 3c</th>\n      <th>Targetd</th>\n      <th>Goal</th>\n      <th>US casee</th>\n      <th>US unilateral casef</th>\n      <th>Foreign policy goal categoryg</th>\n      <th>First yearh</th>\n      <th>Policy resultj</th>\n      <th>Sanctions contributionk</th>\n      <th>Success \\nscorel</th>\n      <th>Companion policiesm</th>\n      <th>International cooperationn</th>\n      <th>International assistanceo</th>\n      <th>Cooperating international organizationp</th>\n      <th>International organization senderq</th>\n      <th>International organization sender &amp; target membersr</th>\n      <th>Prior relationst</th>\n      <th>Regime Type \\n(DEMOC 1st year)u</th>\n      <th>Regime Type2 (Polity2 1st year)v</th>\n      <th>Regime Type3 \\n(Scale 1st year)w</th>\n      <th>Political stability priorx</th>\n      <th>Trade linkagecc</th>\n      <th>GNP \\nratiodd</th>\n      <th>Health and stabilityee</th>\n      <th>Sanction typeff</th>\n      <th>GDP growth (percent, 5-year average)hh</th>\n      <th>Inflation (percent,\\n 3-year average)ii</th>\n      <th>Country groupkk</th>\n    </tr>\n    <tr>\n      <th>Case no.b</th>\n      <th></th>\n      <th></th>\n      <th></th>\n      <th></th>\n      <th></th>\n      <th></th>\n      <th></th>\n      <th></th>\n      <th></th>\n      <th></th>\n      <th></th>\n      <th></th>\n      <th></th>\n      <th></th>\n      <th></th>\n      <th></th>\n      <th></th>\n      <th></th>\n      <th></th>\n      <th></th>\n      <th></th>\n      <th></th>\n      <th></th>\n      <th></th>\n      <th></th>\n      <th></th>\n      <th></th>\n      <th></th>\n      <th></th>\n      <th></th>\n    </tr>\n  </thead>\n  <tbody>\n    <tr>\n      <th>14-1</th>\n      <td>UNITED KINGDOM</td>\n      <td>NaN</td>\n      <td>NaN</td>\n      <td>GERMANY</td>\n      <td>Military victory</td>\n      <td>0</td>\n      <td>0</td>\n      <td>4</td>\n      <td>1914</td>\n      <td>4</td>\n      <td>3</td>\n      <td>12</td>\n      <td>R</td>\n      <td>4</td>\n      <td>A</td>\n      <td>--</td>\n      <td>0</td>\n      <td>0</td>\n      <td>1</td>\n      <td>5</td>\n      <td>2</td>\n      <td>2</td>\n      <td>0,0</td>\n      <td>9</td>\n      <td>1</td>\n      <td>3</td>\n      <td>F,X,M</td>\n      <td>3,6</td>\n      <td>2,9</td>\n      <td>1</td>\n    </tr>\n    <tr>\n      <th>17-1</th>\n      <td>UNITED STATES</td>\n      <td>NaN</td>\n      <td>NaN</td>\n      <td>JAPAN</td>\n      <td>Shipping for Allies</td>\n      <td>1</td>\n      <td>1</td>\n      <td>5</td>\n      <td>1917</td>\n      <td>2</td>\n      <td>2</td>\n      <td>4</td>\n      <td>--</td>\n      <td>1</td>\n      <td>--</td>\n      <td>--</td>\n      <td>0</td>\n      <td>0</td>\n      <td>2</td>\n      <td>5</td>\n      <td>1</td>\n      <td>2</td>\n      <td>0,0</td>\n      <td>20,5</td>\n      <td>13</td>\n      <td>3</td>\n      <td>X</td>\n      <td>5,4</td>\n      <td>25,6</td>\n      <td>1</td>\n    </tr>\n    <tr>\n      <th>18-1</th>\n      <td>UNITED KINGDOM</td>\n      <td>NaN</td>\n      <td>NaN</td>\n      <td>RUSSIA</td>\n      <td>Destabilize Bolsheviks</td>\n      <td>0</td>\n      <td>0</td>\n      <td>2</td>\n      <td>1918</td>\n      <td>1</td>\n      <td>2</td>\n      <td>2</td>\n      <td>R,Q</td>\n      <td>4</td>\n      <td>--</td>\n      <td>--</td>\n      <td>0</td>\n      <td>0</td>\n      <td>1</td>\n      <td>1</td>\n      <td>-1</td>\n      <td>2</td>\n      <td>0,1</td>\n      <td>18,5</td>\n      <td>1</td>\n      <td>1</td>\n      <td>F,X,M</td>\n      <td>n.a.</td>\n      <td>n.a.</td>\n      <td>2</td>\n    </tr>\n  </tbody>\n</table>\n</div>"
     },
     "metadata": {},
     "execution_count": 26
    }
   ],
   "source": [
    "# Drop information that is unknown at decision time\n",
    "\n",
    "unknowns = [\n",
    "    \"Last yeari\",\n",
    "    \"Length (years)s\",\n",
    "    \"Political stability duringy\",\n",
    "    \"Cost to targetz\",\n",
    "    \"Cost to target (percent of GNP)aa\",\n",
    "    \"Cost to target per capitabb\",\n",
    "    \"Cost to sendergg\",\n",
    "    \"Target International Monetary Fund codejj\"\n",
    "]\n",
    "\n",
    "df = base_df.drop(unknowns, axis=1)\n",
    "\n",
    "print(df.shape)\n",
    "df.head(3)"
   ]
  },
  {
   "cell_type": "code",
   "execution_count": 27,
   "metadata": {},
   "outputs": [
    {
     "output_type": "execute_result",
     "data": {
      "text/plain": "Index(['Sender c', 'Sender 2c', 'Sender 3c', 'Targetd', 'Goal', 'US casee',\n       'US unilateral casef', 'Foreign policy goal categoryg', 'First yearh',\n       'Policy resultj', 'Sanctions contributionk', 'Success \\nscorel',\n       'Companion policiesm', 'International cooperationn',\n       'International assistanceo', 'Cooperating international organizationp',\n       'International organization senderq',\n       'International organization sender & target membersr',\n       'Prior relationst', 'Regime Type \\n(DEMOC 1st year)u',\n       'Regime Type2 (Polity2 1st year)v', 'Regime Type3 \\n(Scale 1st year)w',\n       'Political stability priorx', 'Trade linkagecc', 'GNP \\nratiodd',\n       'Health and stabilityee', 'Sanction typeff',\n       'GDP growth (percent, 5-year average)hh',\n       'Inflation (percent,\\n 3-year average)ii', 'Country groupkk'],\n      dtype='object')"
     },
     "metadata": {},
     "execution_count": 27
    }
   ],
   "source": [
    "df.columns"
   ]
  },
  {
   "cell_type": "code",
   "execution_count": 28,
   "metadata": {},
   "outputs": [],
   "source": [
    "new_names = [\n",
    "    'Sender1', 'Sender2', 'Sender3', 'Target', 'Goal', 'US case',\n",
    "    'US unilateral case', 'Foreign policy goal category', 'First year',\n",
    "    'Policy result', 'Sanctions contribution', 'Success',\n",
    "    'Companion policies', 'International cooperation',\n",
    "    'International assistance', 'Cooperating international organization',\n",
    "    'International organization sender',\n",
    "    'International organization sender & target members',\n",
    "    'Prior relationst', 'Regime Type',\n",
    "    'Regime Type2', 'Regime Type3',\n",
    "    'Political stability prior', 'Trade linkage', 'GNP \\nratio',\n",
    "    'Health and stability', 'Sanction type',\n",
    "    'GDP growth',\n",
    "    'Inflation', 'Country group']"
   ]
  },
  {
   "cell_type": "code",
   "execution_count": 29,
   "metadata": {},
   "outputs": [
    {
     "output_type": "execute_result",
     "data": {
      "text/plain": "{'Sender c': 'Sender1',\n 'Sender 2c': 'Sender2',\n 'Sender 3c': 'Sender3',\n 'Targetd': 'Target',\n 'Goal': 'Goal',\n 'US casee': 'US case',\n 'US unilateral casef': 'US unilateral case',\n 'Foreign policy goal categoryg': 'Foreign policy goal category',\n 'First yearh': 'First year',\n 'Policy resultj': 'Policy result',\n 'Sanctions contributionk': 'Sanctions contribution',\n 'Success \\nscorel': 'Success',\n 'Companion policiesm': 'Companion policies',\n 'International cooperationn': 'International cooperation',\n 'International assistanceo': 'International assistance',\n 'Cooperating international organizationp': 'Cooperating international organization',\n 'International organization senderq': 'International organization sender',\n 'International organization sender & target membersr': 'International organization sender & target members',\n 'Prior relationst': 'Prior relationst',\n 'Regime Type \\n(DEMOC 1st year)u': 'Regime Type',\n 'Regime Type2 (Polity2 1st year)v': 'Regime Type2',\n 'Regime Type3 \\n(Scale 1st year)w': 'Regime Type3',\n 'Political stability priorx': 'Political stability prior',\n 'Trade linkagecc': 'Trade linkage',\n 'GNP \\nratiodd': 'GNP \\nratio',\n 'Health and stabilityee': 'Health and stability',\n 'Sanction typeff': 'Sanction type',\n 'GDP growth (percent, 5-year average)hh': 'GDP growth',\n 'Inflation (percent,\\n 3-year average)ii': 'Inflation',\n 'Country groupkk': 'Country group'}"
     },
     "metadata": {},
     "execution_count": 29
    }
   ],
   "source": [
    "name_dict = dict(zip(df.columns, new_names))\n",
    "name_dict"
   ]
  },
  {
   "cell_type": "code",
   "execution_count": 30,
   "metadata": {},
   "outputs": [],
   "source": [
    "df = df.rename(columns=name_dict)"
   ]
  },
  {
   "cell_type": "code",
   "execution_count": 31,
   "metadata": {},
   "outputs": [],
   "source": [
    "df[\"score\"] = (df['Success'] > 9).astype(int)"
   ]
  },
  {
   "cell_type": "code",
   "execution_count": 32,
   "metadata": {},
   "outputs": [
    {
     "output_type": "execute_result",
     "data": {
      "text/plain": "Index(['Sender1', 'Sender2', 'Sender3', 'Target', 'Goal', 'US case',\n       'US unilateral case', 'Foreign policy goal category', 'First year',\n       'Policy result', 'Sanctions contribution', 'Success',\n       'Companion policies', 'International cooperation',\n       'International assistance', 'Cooperating international organization',\n       'International organization sender',\n       'International organization sender & target members',\n       'Prior relationst', 'Regime Type', 'Regime Type2', 'Regime Type3',\n       'Political stability prior', 'Trade linkage', 'GNP \\nratio',\n       'Health and stability', 'Sanction type', 'GDP growth', 'Inflation',\n       'Country group', 'score'],\n      dtype='object')"
     },
     "metadata": {},
     "execution_count": 32
    }
   ],
   "source": [
    "df.columns"
   ]
  },
  {
   "cell_type": "code",
   "execution_count": 34,
   "metadata": {},
   "outputs": [],
   "source": [
    "df = df[['Sender1', 'Sender2', 'Sender3', 'Target', 'Goal', 'US case',\n",
    "       'US unilateral case', 'Foreign policy goal category', 'First year',\n",
    "       'Policy result', 'Sanctions contribution', 'Success', 'score',\n",
    "       'Companion policies', 'International cooperation',\n",
    "       'International assistance', 'Cooperating international organization',\n",
    "       'International organization sender',\n",
    "       'International organization sender & target members',\n",
    "       'Prior relationst', 'Regime Type', 'Regime Type2', 'Regime Type3',\n",
    "       'Political stability prior', 'Trade linkage', 'GNP \\nratio',\n",
    "       'Health and stability', 'Sanction type', 'GDP growth', 'Inflation',\n",
    "       'Country group']]"
   ]
  },
  {
   "cell_type": "code",
   "execution_count": 35,
   "metadata": {},
   "outputs": [
    {
     "output_type": "execute_result",
     "data": {
      "text/plain": "                     Sender1         Sender2 Sender3       Target  \\\nCase no.b                                                           \n14-1          UNITED KINGDOM             NaN     NaN      GERMANY   \n17-1           UNITED STATES             NaN     NaN        JAPAN   \n18-1          UNITED KINGDOM             NaN     NaN       RUSSIA   \n21-1       LEAGUE OF NATIONS             NaN     NaN   YUGOSLAVIA   \n25-1       LEAGUE OF NATIONS             NaN     NaN       GREECE   \n...                      ...             ...     ...          ...   \n98-3                  TURKEY             NaN     NaN        ITALY   \n99-1          UNITED NATIONS   UNITED STATES     NaN  AFGHANISTAN   \n99-2           UNITED STATES  EUROPEAN UNION  FRANCE  IVORY COAST   \n99-3           UNITED STATES           JAPAN     NaN     PAKISTAN   \n00-1           UNITED STATES             NaN     NaN      ECUADOR   \n\n                                      Goal  US case  US unilateral case  \\\nCase no.b                                                                 \n14-1                      Military victory        0                   0   \n17-1                   Shipping for Allies        1                   1   \n18-1                Destabilize Bolsheviks        0                   0   \n21-1       Military disruption vs. Albania        0                   0   \n25-1                Withdraw from Bulgaria        0                   0   \n...                                    ...      ...                 ...   \n98-3                        Kurdish leader        0                   0   \n99-1             Extradite Osama bin Laden        1                   0   \n99-2                       Coup, democracy        1                   0   \n99-3                       Coup, democracy        1                   0   \n00-1                                  Coup        1                   0   \n\n           Foreign policy goal category  First year  Policy result  \\\nCase no.b                                                            \n14-1                                  4        1914              4   \n17-1                                  5        1917              2   \n18-1                                  2        1918              1   \n21-1                                  3        1921              4   \n25-1                                  3        1925              4   \n...                                 ...         ...            ...   \n98-3                                  1        1998              3   \n99-1                                  1        1999              1   \n99-2                                  2        1999              2   \n99-3                                  2        1999              1   \n00-1                                  2        2000              3   \n\n           Sanctions contribution  Success  score Companion policies  \\\nCase no.b                                                              \n14-1                            3       12      1                  R   \n17-1                            2        4      0                 --   \n18-1                            2        2      0                R,Q   \n21-1                            4       16      1                 --   \n25-1                            4       16      1                 --   \n...                           ...      ...    ...                ...   \n98-3                            3        9      0                 --   \n99-1                            2        2      0                  R   \n99-2                            3        6      0                 --   \n99-3                            2        2      0                 --   \n00-1                            4       12      1                 --   \n\n           International cooperation International assistance  \\\nCase no.b                                                       \n14-1                               4                        A   \n17-1                               1                       --   \n18-1                               4                       --   \n21-1                               4                       --   \n25-1                               4                       --   \n...                              ...                      ...   \n98-3                               1                       --   \n99-1                               4                       --   \n99-2                               2                       --   \n99-3                               2                       --   \n00-1                               3                       --   \n\n          Cooperating international organization  \\\nCase no.b                                          \n14-1                                          --   \n17-1                                          --   \n18-1                                          --   \n21-1                                          --   \n25-1                                          --   \n...                                          ...   \n98-3                                          --   \n99-1                                          --   \n99-2                                 ECOWAS, OAU   \n99-3                            EU, Commonwealth   \n00-1                                         OAS   \n\n           International organization sender  \\\nCase no.b                                      \n14-1                                       0   \n17-1                                       0   \n18-1                                       0   \n21-1                                       1   \n25-1                                       1   \n...                                      ...   \n98-3                                       0   \n99-1                                       1   \n99-2                                       1   \n99-3                                       0   \n00-1                                       0   \n\n           International organization sender & target members  \\\nCase no.b                                                       \n14-1                                                       0    \n17-1                                                       0    \n18-1                                                       0    \n21-1                                                       1    \n25-1                                                       1    \n...                                                      ...    \n98-3                                                       0    \n99-1                                                       1    \n99-2                                                       1    \n99-3                                                       1    \n00-1                                                       1    \n\n           Prior relationst Regime Type Regime Type2 Regime Type3  \\\nCase no.b                                                           \n14-1                      1           5            2            2   \n17-1                      2           5            1            2   \n18-1                      1           1           -1            2   \n21-1                      2           3            0            2   \n25-1                      2           0           -6            1   \n...                     ...         ...          ...          ...   \n98-3                      3          10           10            3   \n99-1                      1           0           -7            1   \n99-2                      3         -88           -1            2   \n99-3                      2           0           -6            1   \n00-1                      3           6            6            3   \n\n          Political stability prior Trade linkage GNP \\nratio  \\\nCase no.b                                                       \n14-1                            0,0             9           1   \n17-1                            0,0          20,5          13   \n18-1                            0,1          18,5           1   \n21-1                            0,4          26,5          37   \n25-1                            0,9            36          56   \n...                             ...           ...         ...   \n98-3                            0,0           1,4        0,16   \n99-1                            0,5           100        5939   \n99-2                            0,1            54        1408   \n99-3                            0,1            20         232   \n00-1                            0,1            34         614   \n\n           Health and stability Sanction type GDP growth Inflation  \\\nCase no.b                                                            \n14-1                          3         F,X,M        3,6       2,9   \n17-1                          3             X        5,4      25,6   \n18-1                          1         F,X,M       n.a.      n.a.   \n21-1                          2            --       -1,5      n.a.   \n25-1                          2            --        3,3      48,8   \n...                         ...           ...        ...       ...   \n98-3                          3            --        1,5       3,7   \n99-1                          1         F,X,M        8,2      n.a.   \n99-2                          1             F        5,2       3,7   \n99-3                          1             F        3,4       9,3   \n00-1                          1            --        0,8      39,6   \n\n           Country group  \nCase no.b                 \n14-1                   1  \n17-1                   1  \n18-1                   2  \n21-1                   2  \n25-1                   1  \n...                  ...  \n98-3                   1  \n99-1                   5  \n99-2                   6  \n99-3                   5  \n00-1                   3  \n\n[204 rows x 31 columns]",
      "text/html": "<div>\n<style scoped>\n    .dataframe tbody tr th:only-of-type {\n        vertical-align: middle;\n    }\n\n    .dataframe tbody tr th {\n        vertical-align: top;\n    }\n\n    .dataframe thead th {\n        text-align: right;\n    }\n</style>\n<table border=\"1\" class=\"dataframe\">\n  <thead>\n    <tr style=\"text-align: right;\">\n      <th></th>\n      <th>Sender1</th>\n      <th>Sender2</th>\n      <th>Sender3</th>\n      <th>Target</th>\n      <th>Goal</th>\n      <th>US case</th>\n      <th>US unilateral case</th>\n      <th>Foreign policy goal category</th>\n      <th>First year</th>\n      <th>Policy result</th>\n      <th>Sanctions contribution</th>\n      <th>Success</th>\n      <th>score</th>\n      <th>Companion policies</th>\n      <th>International cooperation</th>\n      <th>International assistance</th>\n      <th>Cooperating international organization</th>\n      <th>International organization sender</th>\n      <th>International organization sender &amp; target members</th>\n      <th>Prior relationst</th>\n      <th>Regime Type</th>\n      <th>Regime Type2</th>\n      <th>Regime Type3</th>\n      <th>Political stability prior</th>\n      <th>Trade linkage</th>\n      <th>GNP \\nratio</th>\n      <th>Health and stability</th>\n      <th>Sanction type</th>\n      <th>GDP growth</th>\n      <th>Inflation</th>\n      <th>Country group</th>\n    </tr>\n    <tr>\n      <th>Case no.b</th>\n      <th></th>\n      <th></th>\n      <th></th>\n      <th></th>\n      <th></th>\n      <th></th>\n      <th></th>\n      <th></th>\n      <th></th>\n      <th></th>\n      <th></th>\n      <th></th>\n      <th></th>\n      <th></th>\n      <th></th>\n      <th></th>\n      <th></th>\n      <th></th>\n      <th></th>\n      <th></th>\n      <th></th>\n      <th></th>\n      <th></th>\n      <th></th>\n      <th></th>\n      <th></th>\n      <th></th>\n      <th></th>\n      <th></th>\n      <th></th>\n      <th></th>\n    </tr>\n  </thead>\n  <tbody>\n    <tr>\n      <th>14-1</th>\n      <td>UNITED KINGDOM</td>\n      <td>NaN</td>\n      <td>NaN</td>\n      <td>GERMANY</td>\n      <td>Military victory</td>\n      <td>0</td>\n      <td>0</td>\n      <td>4</td>\n      <td>1914</td>\n      <td>4</td>\n      <td>3</td>\n      <td>12</td>\n      <td>1</td>\n      <td>R</td>\n      <td>4</td>\n      <td>A</td>\n      <td>--</td>\n      <td>0</td>\n      <td>0</td>\n      <td>1</td>\n      <td>5</td>\n      <td>2</td>\n      <td>2</td>\n      <td>0,0</td>\n      <td>9</td>\n      <td>1</td>\n      <td>3</td>\n      <td>F,X,M</td>\n      <td>3,6</td>\n      <td>2,9</td>\n      <td>1</td>\n    </tr>\n    <tr>\n      <th>17-1</th>\n      <td>UNITED STATES</td>\n      <td>NaN</td>\n      <td>NaN</td>\n      <td>JAPAN</td>\n      <td>Shipping for Allies</td>\n      <td>1</td>\n      <td>1</td>\n      <td>5</td>\n      <td>1917</td>\n      <td>2</td>\n      <td>2</td>\n      <td>4</td>\n      <td>0</td>\n      <td>--</td>\n      <td>1</td>\n      <td>--</td>\n      <td>--</td>\n      <td>0</td>\n      <td>0</td>\n      <td>2</td>\n      <td>5</td>\n      <td>1</td>\n      <td>2</td>\n      <td>0,0</td>\n      <td>20,5</td>\n      <td>13</td>\n      <td>3</td>\n      <td>X</td>\n      <td>5,4</td>\n      <td>25,6</td>\n      <td>1</td>\n    </tr>\n    <tr>\n      <th>18-1</th>\n      <td>UNITED KINGDOM</td>\n      <td>NaN</td>\n      <td>NaN</td>\n      <td>RUSSIA</td>\n      <td>Destabilize Bolsheviks</td>\n      <td>0</td>\n      <td>0</td>\n      <td>2</td>\n      <td>1918</td>\n      <td>1</td>\n      <td>2</td>\n      <td>2</td>\n      <td>0</td>\n      <td>R,Q</td>\n      <td>4</td>\n      <td>--</td>\n      <td>--</td>\n      <td>0</td>\n      <td>0</td>\n      <td>1</td>\n      <td>1</td>\n      <td>-1</td>\n      <td>2</td>\n      <td>0,1</td>\n      <td>18,5</td>\n      <td>1</td>\n      <td>1</td>\n      <td>F,X,M</td>\n      <td>n.a.</td>\n      <td>n.a.</td>\n      <td>2</td>\n    </tr>\n    <tr>\n      <th>21-1</th>\n      <td>LEAGUE OF NATIONS</td>\n      <td>NaN</td>\n      <td>NaN</td>\n      <td>YUGOSLAVIA</td>\n      <td>Military disruption vs. Albania</td>\n      <td>0</td>\n      <td>0</td>\n      <td>3</td>\n      <td>1921</td>\n      <td>4</td>\n      <td>4</td>\n      <td>16</td>\n      <td>1</td>\n      <td>--</td>\n      <td>4</td>\n      <td>--</td>\n      <td>--</td>\n      <td>1</td>\n      <td>1</td>\n      <td>2</td>\n      <td>3</td>\n      <td>0</td>\n      <td>2</td>\n      <td>0,4</td>\n      <td>26,5</td>\n      <td>37</td>\n      <td>2</td>\n      <td>--</td>\n      <td>-1,5</td>\n      <td>n.a.</td>\n      <td>2</td>\n    </tr>\n    <tr>\n      <th>25-1</th>\n      <td>LEAGUE OF NATIONS</td>\n      <td>NaN</td>\n      <td>NaN</td>\n      <td>GREECE</td>\n      <td>Withdraw from Bulgaria</td>\n      <td>0</td>\n      <td>0</td>\n      <td>3</td>\n      <td>1925</td>\n      <td>4</td>\n      <td>4</td>\n      <td>16</td>\n      <td>1</td>\n      <td>--</td>\n      <td>4</td>\n      <td>--</td>\n      <td>--</td>\n      <td>1</td>\n      <td>1</td>\n      <td>2</td>\n      <td>0</td>\n      <td>-6</td>\n      <td>1</td>\n      <td>0,9</td>\n      <td>36</td>\n      <td>56</td>\n      <td>2</td>\n      <td>--</td>\n      <td>3,3</td>\n      <td>48,8</td>\n      <td>1</td>\n    </tr>\n    <tr>\n      <th>...</th>\n      <td>...</td>\n      <td>...</td>\n      <td>...</td>\n      <td>...</td>\n      <td>...</td>\n      <td>...</td>\n      <td>...</td>\n      <td>...</td>\n      <td>...</td>\n      <td>...</td>\n      <td>...</td>\n      <td>...</td>\n      <td>...</td>\n      <td>...</td>\n      <td>...</td>\n      <td>...</td>\n      <td>...</td>\n      <td>...</td>\n      <td>...</td>\n      <td>...</td>\n      <td>...</td>\n      <td>...</td>\n      <td>...</td>\n      <td>...</td>\n      <td>...</td>\n      <td>...</td>\n      <td>...</td>\n      <td>...</td>\n      <td>...</td>\n      <td>...</td>\n      <td>...</td>\n    </tr>\n    <tr>\n      <th>98-3</th>\n      <td>TURKEY</td>\n      <td>NaN</td>\n      <td>NaN</td>\n      <td>ITALY</td>\n      <td>Kurdish leader</td>\n      <td>0</td>\n      <td>0</td>\n      <td>1</td>\n      <td>1998</td>\n      <td>3</td>\n      <td>3</td>\n      <td>9</td>\n      <td>0</td>\n      <td>--</td>\n      <td>1</td>\n      <td>--</td>\n      <td>--</td>\n      <td>0</td>\n      <td>0</td>\n      <td>3</td>\n      <td>10</td>\n      <td>10</td>\n      <td>3</td>\n      <td>0,0</td>\n      <td>1,4</td>\n      <td>0,16</td>\n      <td>3</td>\n      <td>--</td>\n      <td>1,5</td>\n      <td>3,7</td>\n      <td>1</td>\n    </tr>\n    <tr>\n      <th>99-1</th>\n      <td>UNITED NATIONS</td>\n      <td>UNITED STATES</td>\n      <td>NaN</td>\n      <td>AFGHANISTAN</td>\n      <td>Extradite Osama bin Laden</td>\n      <td>1</td>\n      <td>0</td>\n      <td>1</td>\n      <td>1999</td>\n      <td>1</td>\n      <td>2</td>\n      <td>2</td>\n      <td>0</td>\n      <td>R</td>\n      <td>4</td>\n      <td>--</td>\n      <td>--</td>\n      <td>1</td>\n      <td>1</td>\n      <td>1</td>\n      <td>0</td>\n      <td>-7</td>\n      <td>1</td>\n      <td>0,5</td>\n      <td>100</td>\n      <td>5939</td>\n      <td>1</td>\n      <td>F,X,M</td>\n      <td>8,2</td>\n      <td>n.a.</td>\n      <td>5</td>\n    </tr>\n    <tr>\n      <th>99-2</th>\n      <td>UNITED STATES</td>\n      <td>EUROPEAN UNION</td>\n      <td>FRANCE</td>\n      <td>IVORY COAST</td>\n      <td>Coup, democracy</td>\n      <td>1</td>\n      <td>0</td>\n      <td>2</td>\n      <td>1999</td>\n      <td>2</td>\n      <td>3</td>\n      <td>6</td>\n      <td>0</td>\n      <td>--</td>\n      <td>2</td>\n      <td>--</td>\n      <td>ECOWAS, OAU</td>\n      <td>1</td>\n      <td>1</td>\n      <td>3</td>\n      <td>-88</td>\n      <td>-1</td>\n      <td>2</td>\n      <td>0,1</td>\n      <td>54</td>\n      <td>1408</td>\n      <td>1</td>\n      <td>F</td>\n      <td>5,2</td>\n      <td>3,7</td>\n      <td>6</td>\n    </tr>\n    <tr>\n      <th>99-3</th>\n      <td>UNITED STATES</td>\n      <td>JAPAN</td>\n      <td>NaN</td>\n      <td>PAKISTAN</td>\n      <td>Coup, democracy</td>\n      <td>1</td>\n      <td>0</td>\n      <td>2</td>\n      <td>1999</td>\n      <td>1</td>\n      <td>2</td>\n      <td>2</td>\n      <td>0</td>\n      <td>--</td>\n      <td>2</td>\n      <td>--</td>\n      <td>EU, Commonwealth</td>\n      <td>0</td>\n      <td>1</td>\n      <td>2</td>\n      <td>0</td>\n      <td>-6</td>\n      <td>1</td>\n      <td>0,1</td>\n      <td>20</td>\n      <td>232</td>\n      <td>1</td>\n      <td>F</td>\n      <td>3,4</td>\n      <td>9,3</td>\n      <td>5</td>\n    </tr>\n    <tr>\n      <th>00-1</th>\n      <td>UNITED STATES</td>\n      <td>NaN</td>\n      <td>NaN</td>\n      <td>ECUADOR</td>\n      <td>Coup</td>\n      <td>1</td>\n      <td>0</td>\n      <td>2</td>\n      <td>2000</td>\n      <td>3</td>\n      <td>4</td>\n      <td>12</td>\n      <td>1</td>\n      <td>--</td>\n      <td>3</td>\n      <td>--</td>\n      <td>OAS</td>\n      <td>0</td>\n      <td>1</td>\n      <td>3</td>\n      <td>6</td>\n      <td>6</td>\n      <td>3</td>\n      <td>0,1</td>\n      <td>34</td>\n      <td>614</td>\n      <td>1</td>\n      <td>--</td>\n      <td>0,8</td>\n      <td>39,6</td>\n      <td>3</td>\n    </tr>\n  </tbody>\n</table>\n<p>204 rows × 31 columns</p>\n</div>"
     },
     "metadata": {},
     "execution_count": 35
    }
   ],
   "source": [
    "df"
   ]
  },
  {
   "cell_type": "code",
   "execution_count": 37,
   "metadata": {},
   "outputs": [],
   "source": [
    "df_scored = df[['Sender1', 'Sender2', 'Sender3', 'Target', 'Goal', 'US case',\n",
    "       'US unilateral case', 'Foreign policy goal category', 'First year', 'score',\n",
    "       'Companion policies', 'International cooperation',\n",
    "       'International assistance', 'Cooperating international organization',\n",
    "       'International organization sender',\n",
    "       'International organization sender & target members',\n",
    "       'Prior relationst', 'Regime Type', 'Regime Type2', 'Regime Type3',\n",
    "       'Political stability prior', 'Trade linkage', 'GNP \\nratio',\n",
    "       'Health and stability', 'Sanction type', 'GDP growth', 'Inflation',\n",
    "       'Country group']]"
   ]
  },
  {
   "cell_type": "code",
   "execution_count": null,
   "metadata": {},
   "outputs": [],
   "source": []
  }
 ],
 "metadata": {
  "kernelspec": {
   "display_name": "sanctionsguillaume",
   "language": "python",
   "name": "sanctionsguillaume"
  },
  "language_info": {
   "codemirror_mode": {
    "name": "ipython",
    "version": 3
   },
   "file_extension": ".py",
   "mimetype": "text/x-python",
   "name": "python",
   "nbconvert_exporter": "python",
   "pygments_lexer": "ipython3",
   "version": "3.8.2-final"
  }
 },
 "nbformat": 4,
 "nbformat_minor": 4
}