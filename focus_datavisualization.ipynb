{
 "cells": [
  {
   "cell_type": "code",
   "execution_count": 1,
   "metadata": {},
   "outputs": [],
   "source": [
    "# import required libraries\n",
    "\n",
    "from sklearn.ensemble import RandomForestClassifier\n",
    "from sklearn import metrics\n",
    "from sklearn.pipeline import make_pipeline\n",
    "from sklearn.preprocessing import StandardScaler\n",
    "from sklearn.model_selection import GridSearchCV\n",
    "from sklearn.model_selection import train_test_split\n",
    "\n",
    "import pandas as pd\n",
    "import numpy as np\n",
    "import seaborn as sns\n",
    "import matplotlib.pyplot as plt\n",
    "from sklearn.ensemble import RandomForestClassifier\n",
    "\n",
    "pd.set_option('display.max_columns', 80)\n",
    "sns.set_style(\"whitegrid\")\n",
    "%matplotlib inline\n",
    "\n",
    "np.random.seed(0)"
   ]
  },
  {
   "cell_type": "code",
   "execution_count": 10,
   "metadata": {},
   "outputs": [],
   "source": [
    "base_df = pd.read_csv(\"input/sanctions.csv.gz\", index_col=0)"
   ]
  },
  {
   "cell_type": "markdown",
   "metadata": {},
   "source": [
    "## Renamming columns"
   ]
  },
  {
   "cell_type": "code",
   "execution_count": 11,
   "metadata": {},
   "outputs": [
    {
     "output_type": "execute_result",
     "data": {
      "text/plain": "Index(['Sender c', 'Sender 2c', 'Sender 3c', 'Targetd', 'Goal', 'US casee',\n       'US unilateral casef', 'Foreign policy goal categoryg', 'First yearh',\n       'Last yeari', 'Policy resultj', 'Sanctions contributionk',\n       'Success \\nscorel', 'Companion policiesm', 'International cooperationn',\n       'International assistanceo', 'Cooperating international organizationp',\n       'International organization senderq',\n       'International organization sender & target membersr',\n       'Length (years)s', 'Prior relationst',\n       'Regime Type \\n(DEMOC 1st year)u', 'Regime Type2 (Polity2 1st year)v',\n       'Regime Type3 \\n(Scale 1st year)w', 'Political stability priorx',\n       'Political stability duringy', 'Cost to targetz',\n       'Cost to target (percent of GNP)aa', 'Cost to target per capitabb',\n       'Trade linkagecc', 'GNP \\nratiodd', 'Health and stabilityee',\n       'Sanction typeff', 'Cost to sendergg',\n       'GDP growth (percent, 5-year average)hh',\n       'Inflation (percent,\\n 3-year average)ii',\n       'Target International Monetary Fund codejj', 'Country groupkk'],\n      dtype='object')"
     },
     "metadata": {},
     "execution_count": 11
    }
   ],
   "source": [
    "base_df.columns"
   ]
  },
  {
   "cell_type": "code",
   "execution_count": 15,
   "metadata": {},
   "outputs": [],
   "source": [
    "base_df.columns\n",
    "new_names = [\n",
    "    'Sender1', 'Sender2', 'Sender3', 'Target', 'Goal', 'US case',\n",
    "    'US unilateral case', 'Foreign policy goal category', 'First year',\n",
    "    'Last year','Policy result', 'Sanctions contribution',\n",
    "    'Success', 'Companion policies', 'International cooperation',\n",
    "    'International assistance', 'Cooperating international organization',\n",
    "    'International organization sender',\n",
    "    'International organization sender & target members',\n",
    "    'Length', 'Prior relations',\n",
    "    'Regime Type1', 'Regime Type2',\n",
    "    'Regime Type3', 'Political stability prior',\n",
    "    \"Political stability during\", 'Cost to target',\n",
    "    'Cost to target GNP pct', 'Cost to target per capita',\n",
    "    'Trade linkage', 'GNP ratio','Health and stability',\n",
    "    'Sanction type', 'Cost to sender',\n",
    "    'GDP growth',\n",
    "    'Inflation',\n",
    "    'Target IMF code',\n",
    "     'Country group']\n",
    "name_dict = dict(zip(base_df.columns, new_names))\n",
    "base_df = base_df.rename(columns=name_dict)"
   ]
  },
  {
   "cell_type": "markdown",
   "metadata": {},
   "source": [
    "## Dropping columns"
   ]
  },
  {
   "cell_type": "code",
   "execution_count": 16,
   "metadata": {},
   "outputs": [
    {
     "output_type": "stream",
     "name": "stdout",
     "text": "(204, 30)\n"
    }
   ],
   "source": [
    "\n",
    "unknowns = [\n",
    "    \"Last year\",\n",
    "    \"Length\",\n",
    "    \"Political stability during\",\n",
    "    \"Cost to target\",\n",
    "    \"Cost to target GNP pct\",\n",
    "    \"Cost to target per capita\",\n",
    "    \"Cost to sender\",\n",
    "    \"Target IMF code\"\n",
    "]\n",
    "\n",
    "df = base_df.drop(unknowns, axis=1)\n",
    "\n",
    "print(df.shape)\n"
   ]
  },
  {
   "cell_type": "code",
   "execution_count": null,
   "metadata": {},
   "outputs": [],
   "source": []
  }
 ],
 "metadata": {
  "language_info": {
   "codemirror_mode": {
    "name": "ipython",
    "version": 3
   },
   "file_extension": ".py",
   "mimetype": "text/x-python",
   "name": "python",
   "nbconvert_exporter": "python",
   "pygments_lexer": "ipython3",
   "version": "3.8.2-final"
  },
  "orig_nbformat": 2,
  "kernelspec": {
   "name": "sanctionsguillaume",
   "display_name": "sanctionsguillaume"
  }
 },
 "nbformat": 4,
 "nbformat_minor": 2
}